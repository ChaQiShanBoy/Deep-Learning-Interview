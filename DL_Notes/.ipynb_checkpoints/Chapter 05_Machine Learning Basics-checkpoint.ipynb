{
 "cells": [
  {
   "cell_type": "markdown",
   "metadata": {},
   "source": [
    "# 深度学习 | 第五章 机器学习基础\n",
    "\n",
    ">深度学习领域圣经，英文原版的三位作者 Ian Goodfellow、Yoshua Bengio 和 Aaron Courville \n",
    "\n",
    "本人仅对中文版深度学习书中，提炼笔记，添加个人理解，该笔记仅作为个人深度学习知识的学习、总结、复习使用。若有错误，还望批评指教。----ZJ\n",
    "\n",
    "中文版 2017-09-04 版 pdf (PDF 阅读器打开 115)\n",
    "\n",
    "第二章内容：中文版 P87 -，英文版 P98 -\n",
    "\n",
    "---\n",
    "\n",
    " Chapter 5 Machine Learning Basics\n",
    " \n",
    " \n",
    "### 5.1 学习算法\n",
    "\n",
    "\n",
    "### 5.2 容量、过拟合和欠拟合\n",
    "\n",
    "### 5.3 超参数和验证集\n",
    "\n",
    "### 5.4 估计、偏差和方差\n",
    "\n",
    "\n",
    "### 5.5 最大似然估计\n",
    "\n",
    "### 5.6 贝叶斯统计\n",
    "\n",
    "### 5.7 监督学习算法\n",
    "\n",
    "### 5.8 无监督学习算法\n",
    "\n",
    "### 5.9 随机梯度下降\n",
    "\n",
    "### 5.10 构建机器学习算法\n",
    "\n",
    "### 5.11 促使深度学习发展的挑战\n",
    "\n"
   ]
  }
 ],
 "metadata": {
  "kernelspec": {
   "display_name": "Python 3",
   "language": "python",
   "name": "python3"
  },
  "language_info": {
   "codemirror_mode": {
    "name": "ipython",
    "version": 3
   },
   "file_extension": ".py",
   "mimetype": "text/x-python",
   "name": "python",
   "nbconvert_exporter": "python",
   "pygments_lexer": "ipython3",
   "version": "3.6.2"
  }
 },
 "nbformat": 4,
 "nbformat_minor": 2
}
