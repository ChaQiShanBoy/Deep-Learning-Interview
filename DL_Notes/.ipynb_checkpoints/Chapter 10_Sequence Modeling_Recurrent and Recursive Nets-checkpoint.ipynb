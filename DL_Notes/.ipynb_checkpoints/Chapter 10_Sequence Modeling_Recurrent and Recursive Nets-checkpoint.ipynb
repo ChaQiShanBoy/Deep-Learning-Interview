{
 "cells": [
  {
   "cell_type": "markdown",
   "metadata": {},
   "source": [
    "# 深度学习圣经 | 第十章 序列建模：循环和递归网络\n",
    "\n",
    ">深度学习领域圣经，英文原版的三位作者 Ian Goodfellow、Yoshua Bengio 和 Aaron Courville \n",
    "\n",
    "本人仅对中文版深度学习书中，提炼笔记，添加个人理解，该笔记仅作为个人深度学习知识学习、积累、复习使用。若有错误，还望批评指教。----ZJ\n",
    "\n",
    "第十章内容：中文版 P318 -，英文版 P374 -\n",
    "\n",
    "(Chapter 10 Sequence Modeling: Recurrentand Recursive Nets)"
   ]
  },
  {
   "cell_type": "code",
   "execution_count": null,
   "metadata": {},
   "outputs": [],
   "source": []
  }
 ],
 "metadata": {
  "kernelspec": {
   "display_name": "Python 3",
   "language": "python",
   "name": "python3"
  },
  "language_info": {
   "codemirror_mode": {
    "name": "ipython",
    "version": 3
   },
   "file_extension": ".py",
   "mimetype": "text/x-python",
   "name": "python",
   "nbconvert_exporter": "python",
   "pygments_lexer": "ipython3",
   "version": "3.6.2"
  }
 },
 "nbformat": 4,
 "nbformat_minor": 2
}
