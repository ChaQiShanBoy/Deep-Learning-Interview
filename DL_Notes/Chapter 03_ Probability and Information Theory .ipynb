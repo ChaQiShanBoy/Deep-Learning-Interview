{
 "cells": [
  {
   "cell_type": "markdown",
   "metadata": {},
   "source": [
    "# 深度学习 | 第三章 概率与信息论\n",
    "\n",
    ">深度学习领域圣经，英文原版的三位作者 Ian Goodfellow、Yoshua Bengio 和 Aaron Courville \n",
    "\n",
    "本人仅对中文版深度学习书中，提炼笔记，添加个人理解，该笔记仅作为个人深度学习知识的学习、总结、复习使用。若有错误，还望批评指教。----ZJ\n",
    "\n",
    "中文版 2017-09-04 版 pdf (PDF 阅读器打开 75)\n",
    "\n",
    "第三章内容：中文版 P47 -，英文版 P53 -\n",
    "\n",
    "---\n",
    "\n",
    " Chapter 3 Probability and Information Theory \n",
    " \n",
    "### 3.1 为什么要使用概率？\n",
    "\n",
    "这是因为机器学习通常必须处理不确定量，有时也可能需要处理随机 (非确定性的) 量。不确定性和随机性可能来自多个方面。至少从 20 世纪 80 年代开始，研究人员就对使用概率论来量化不确定性提出了令人信服的论据。\n",
    "\n",
    "信任度（degree of belief）\n",
    "\n",
    "频率派概率（frequentist probability）\n",
    "\n",
    "贝叶斯概率（Bayesian probability）\n",
    " \n",
    "### 3.2 随机变量\n",
    "\n",
    "随机变量（random variable）是可以随机地取不同值的变量。我们通常用无格式字体 (plain typeface) 中的小写字母来表示随机变量本身，而用手写体中的小写字母来表示随机变量能够取到的值。\n",
    "\n",
    "例如，x 1 和 x 2 都是随机变量 x 可能的取值。\n",
    "  \n",
    "### 3.3 概率分布\n",
    "\n",
    "概率分布（probability distribution）用来描述随机变量或一簇随机变量在每一个可能取到的状态的可能性大小。我们描述概率分布的方式取决于随机变量是离散的还是连续的。\n",
    "\n",
    "#### 3.3.1 离散型变量和概率质量函数\n",
    "\n",
    "\n",
    "   \n",
    "### 3.4 边缘概率\n",
    "\n",
    "### 3.5 条件概率\n",
    "\n",
    "### 3.6 条件概率的链式法则\n",
    "\n",
    "### 3.7 独立性和条件独立性\n",
    "\n",
    "### 3.8 期望、方差和协方差\n",
    " \n",
    "### 3.9 常用概率分布\n",
    "  \n",
    "### 3.10 常用函数的有用性质\n",
    "   \n",
    "### 3.11 贝叶斯规则\n",
    "\n",
    "### 3.12 连续型变量的技术细节\n",
    "\n",
    "### 3.13 信息论\n",
    "\n",
    "### 3.14 结构化概率模型\n",
    "### \n",
    " "
   ]
  },
  {
   "cell_type": "code",
   "execution_count": null,
   "metadata": {},
   "outputs": [],
   "source": []
  }
 ],
 "metadata": {
  "kernelspec": {
   "display_name": "Python 3",
   "language": "python",
   "name": "python3"
  },
  "language_info": {
   "codemirror_mode": {
    "name": "ipython",
    "version": 3
   },
   "file_extension": ".py",
   "mimetype": "text/x-python",
   "name": "python",
   "nbconvert_exporter": "python",
   "pygments_lexer": "ipython3",
   "version": "3.6.2"
  }
 },
 "nbformat": 4,
 "nbformat_minor": 2
}
