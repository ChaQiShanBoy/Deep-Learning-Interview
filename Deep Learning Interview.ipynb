{
 "cells": [
  {
   "cell_type": "markdown",
   "metadata": {},
   "source": [
    "# Deep-Learning-Interview_Part_1\n",
    "\n",
    ">本文原作者Jin Lee，本文原载于知乎专栏。\n",
    "问题集： https://zhuanlan.zhihu.com/p/29936999\n",
    "回答及对应英文页标：https://zhuanlan.zhihu.com/p/29965072\n",
    "elviswf 对上述问题找到 中文版对应页码。github 地址：[那些深度学习《面试》你可能需要知道的（中文页标版）](https://github.com/elviswf/DeepLearningBookQA_cn) https://github.com/elviswf/DeepLearningBookQA_cn\n",
    "\n",
    "----\n",
    "\n",
    "*本人以自身学习，加强基础知识为目的，查漏补缺。将对应页面知识，进行复习，学习，总结提炼。---ZJ*\n",
    "\n",
    "\n",
    "#### 1. 列举常见的一些范数及其应用场景，如 L0，L1，L2，L∞，Frobenius 范数\n",
    "\n",
    "答：p24-p25 ；还有 p141-p156 有 regularization 的应用\n",
    "\n",
    "#### 2. 简单介绍一下贝叶斯概率与频率派概率，以及在统计中对于真实参数的假设。\n",
    "\n",
    "答：p35\n",
    "\n",
    "#### 3. 概率密度的万能近似器\n",
    "\n",
    "答：p43：3.10 上面那一段\n",
    "\n",
    "#### 4. 简单介绍一下 sigmoid，relu，softplus，tanh，RBF 及其应用场景\n",
    "\n",
    "答：sigmoid 和 softplus 在 p43 页；全部的在 p123-p127\n",
    "\n",
    "#### 5.Jacobian，Hessian 矩阵及其在深度学习中的重要性\n",
    "\n",
    "答：p56-p62\n",
    "\n",
    "#### 6.KL 散度在信息论中度量的是那个直观量\n",
    "\n",
    "答：p46\n",
    "\n",
    "#### 7. 数值计算中的计算上溢与下溢问题，如 softmax 中的处理方式\n",
    "\n",
    "答：p52-p53\n",
    "\n",
    "#### 8. 与矩阵的特征值相关联的条件数 (病态条件) 指什么，与梯度爆炸与梯度弥散的关系\n",
    "\n",
    "答：p53;\n",
    "\n",
    "#### 9. 在基于梯度的优化问题中，如何判断一个梯度为 0 的零界点为局部极大值／全局极小值还是鞍点，Hessian 矩阵的条件数与梯度下降法的关系\n",
    "\n",
    "答：p56-p62\n",
    "\n",
    "#### 10.KTT 方法与约束优化问题，活跃约束的定义\n",
    "\n",
    "答：p60-p61"
   ]
  },
  {
   "cell_type": "code",
   "execution_count": null,
   "metadata": {},
   "outputs": [],
   "source": []
  }
 ],
 "metadata": {
  "kernelspec": {
   "display_name": "Python 3",
   "language": "python",
   "name": "python3"
  },
  "language_info": {
   "codemirror_mode": {
    "name": "ipython",
    "version": 3
   },
   "file_extension": ".py",
   "mimetype": "text/x-python",
   "name": "python",
   "nbconvert_exporter": "python",
   "pygments_lexer": "ipython3",
   "version": "3.6.2"
  }
 },
 "nbformat": 4,
 "nbformat_minor": 2
}
