{
 "cells": [
  {
   "cell_type": "markdown",
   "metadata": {},
   "source": [
    "## 百度 AI 开放平台 \n",
    "\n",
    "> 编写：赵君君\n",
    "  日期：2018-03-12\n",
    "\n",
    "*基于 Python SDK API*\n",
    "\n",
    "1.百度语音\n",
    "\n",
    "- 语音识别 （demo_1）\n",
    "- 语音合成 （demo_2）\n",
    "- 语音唤醒\n",
    "\n",
    "2.视觉技术\n",
    "\n",
    "- 文字识别 （demo_3）\n",
    "    - 通用文字识别\n",
    "    - 通用文字识别（高精度版）\n",
    "    - 通用文字识别（含位置信息版）\n",
    "    - 通用文字识别（高精度含位置版）\n",
    "    - 通用文字识别（含生僻字版）\n",
    "    - 网络图片文字识别\n",
    "    - 身份证识别、银行卡识别、驾驶证识别、行驶证识别、车牌识别、营业执照识别、表格文字识别、通用票据识别\n",
    "    \n",
    "    \n",
    "- 人脸识别 （demo_4）\n",
    "    - 人脸检测 （demo_4_1）\n",
    "    - 人脸比对 （demo_4_2）\n",
    "    - 人脸识别(用于计算指定组内用户，与上传图像中人脸的相似度。识别前提为您已经创建了一个人脸库。典型应用场景：如人脸闸机，考勤签到，安防监控等。)\n",
    "\n",
    "    - 人脸认证\n",
    "    - ........\n",
    "- 图像审核\n",
    "- 图像识别 （demo_5）\n",
    "\n",
    "    - 菜品识别\t检测用户上传的菜品图片，返回具体的菜名、卡路里、置信度信息。\n",
    "    - 车型识别\t检测用户上传的车辆图片，识别所属车型，包括车辆品牌及具体型号。\n",
    "    - logo商标识别\t识别图片中包含的商品LOGO信息，返回LOGO品牌名称、在图片中的位置、置信度。\n",
    "    - 动物识别\t检测用户上传的动物图片，返回动物名称、置信度信息。\n",
    "    - 植物识别\t检测用户上传的植物图片，返回植物名称、置信度信息。\n",
    "    - 图像主体检测\t识别图像中的主体具体坐标位置。\n",
    "    \n",
    "- 图像搜索  (....)\n",
    "\n",
    "3.自然语言\n",
    "\n",
    "- 语言处理基础技术 （demo_6）\n",
    "    - 词法分析\t分词、词性标注、专名识别\n",
    "    - 依存句法分析\t自动分析文本中的依存句法结构信息\n",
    "    - 词向量表示\t查询词汇的词向量，实现文本的可计算\n",
    "    - DNN语言模型\t判断一句话是否符合语言表达习惯，输出分词结果并给出每个词在句子中的概率值\n",
    "    - 词义相似度\t计算两个给定词语的语义相似度\n",
    "    - 短文本相似度\t判断两个文本的相似度得分\n",
    "    - 评论观点抽取\t提取一个句子观点评论的情感属性\n",
    "    - 情感倾向分析\t对包含主观观点信息的文本进行情感极性类别（积极、消极、中性）的判断，并给出相应的置信度\n",
    "    - 中文分词\t切分出连续文本中的基本词汇序列（已合并到词法分析接口）\n",
    "    - 词性标注\t为自然语言文本中的每个词汇赋予词性（已合并到词法分析接口）\n",
    "\n",
    "- 理解与交互UNIT\n",
    "- 文本审核\n",
    "\n",
    "\n",
    "........\n",
    "\n",
    "百度 AI 开放平台，提供了十分多的接口，且应用场景，demo 示例，不同语言的 SDK 较为齐全，下面是选取部分接口功能，给出示例 Demo\n"
   ]
  },
  {
   "cell_type": "markdown",
   "metadata": {},
   "source": [
    "### 语音识别 （demo_1）"
   ]
  },
  {
   "cell_type": "code",
   "execution_count": 9,
   "metadata": {},
   "outputs": [
    {
     "data": {
      "text/plain": [
       "{'corpus_no': '6531944375542521720',\n",
       " 'err_msg': 'success.',\n",
       " 'err_no': 0,\n",
       " 'result': ['北京科技馆，'],\n",
       " 'sn': '300108339431520836813'}"
      ]
     },
     "execution_count": 9,
     "metadata": {},
     "output_type": "execute_result"
    }
   ],
   "source": [
    "'''\n",
    "\n",
    "语音识别 （demo_1）\n",
    "\n",
    "1.ffmpeg 音频文件转码\n",
    "\n",
    "'''\n",
    "\n",
    "from aip import AipSpeech\n",
    "import IPython\n",
    "\n",
    "\"\"\" 你的 APPID AK SK \"\"\"\n",
    "APP_ID = '10913130'\n",
    "API_KEY = '7zKKynArAjNn1a2klRrRzoVP'\n",
    "SECRET_KEY = 'X4f3W3rRsb2CvgEOVqrqGVCZFGL1gNiX'\n",
    "\n",
    "client = AipSpeech(APP_ID, API_KEY, SECRET_KEY)\n",
    "\n",
    "# 读取文件\n",
    "def get_file_content(filePath):\n",
    "    with open(filePath, 'rb') as fp:\n",
    "        return fp.read()\n",
    "\n",
    "# 识别本地文件\n",
    "client.asr(get_file_content('public/16k.pcm'), 'pcm', 16000, {\n",
    "    'lan': 'zh',\n",
    "})"
   ]
  },
  {
   "cell_type": "markdown",
   "metadata": {},
   "source": [
    "### 语音合成 （demo_2）"
   ]
  },
  {
   "cell_type": "code",
   "execution_count": 10,
   "metadata": {},
   "outputs": [
    {
     "data": {
      "text/html": [
       "\n",
       "                <audio controls=\"controls\" >\n",
       "                    <source src=\"data:audio/mpeg;base64,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\" type=\"audio/mpeg\" />\n",
       "                    Your browser does not support the audio element.\n",
       "                </audio>\n",
       "              "
      ],
      "text/plain": [
       "<IPython.lib.display.Audio object>"
      ]
     },
     "execution_count": 10,
     "metadata": {},
     "output_type": "execute_result"
    }
   ],
   "source": [
    "'''\n",
    "语音合成 （demo_2）\n",
    "'''\n",
    "\n",
    "result  = client.synthesis('欢迎来到人工智能课程', 'zh', 1, {\n",
    "    'vol': 5,\n",
    "})\n",
    "\n",
    "# 识别正确返回语音二进制 错误则返回dict 参照下面错误码\n",
    "if not isinstance(result, dict):\n",
    "    with open('auido.mp3', 'wb') as f:\n",
    "        f.write(result)\n",
    "\n",
    "IPython.display.Audio('auido.mp3')    "
   ]
  },
  {
   "cell_type": "markdown",
   "metadata": {},
   "source": [
    "### 文字识别 （demo_3）"
   ]
  },
  {
   "cell_type": "code",
   "execution_count": 1,
   "metadata": {},
   "outputs": [
    {
     "data": {
      "text/plain": [
       "{'direction': 0,\n",
       " 'language': 3,\n",
       " 'log_id': 1666512924510026081,\n",
       " 'words_result': [{'probability': {'average': 0.911762,\n",
       "    'min': 0.620289,\n",
       "    'variance': 0.013683},\n",
       "   'words': '人工智能是通过智能机器延仲、增發人类設造自然'},\n",
       "  {'probability': {'average': 0.91162, 'min': 0.39503, 'variance': 0.023826},\n",
       "   'words': '和治型会常力的新兴技术。近年来,人工智能的发及'},\n",
       "  {'probability': {'average': 0.921823, 'min': 0.380981, 'variance': 0.021712},\n",
       "   'words': '星现出深度学习、骑界合、人机协同等新特征,推动'},\n",
       "  {'probability': {'average': 0.930503, 'min': 0.569842, 'variance': 0.013735},\n",
       "   'words': '了社会各顿城从数字化、网化向智能化的联升,深히'},\n",
       "  {'probability': {'average': 0.902332, 'min': 0.520584, 'variance': 0.022056},\n",
       "   'words': '放变着人们的生活方式和思撲式。本棋块是针对人工'},\n",
       "  {'probability': {'average': 0.886753, 'min': 0.434884, 'variance': 0.030795},\n",
       "   'words': '智艴的发顺特征,从基础知识与应用、简人工智应'},\n",
       "  {'probability': {'average': 0.858416, 'min': 0.432519, 'variance': 0.03738},\n",
       "   'words': '用模块搭建及开发等方面工遗性必修模块。'},\n",
       "  {'probability': {'average': 0.87775, 'min': 0.352721, 'variance': 0.035509},\n",
       "   'words': '通过本漢块的学习,学生应了解人工智能发展历'},\n",
       "  {'probability': {'average': 0.954875, 'min': 0.655406, 'variance': 0.00637},\n",
       "   'words': '程及耗念,能魂共型人工智能算法的实现过程,过格'},\n",
       "  {'probability': {'average': 0.937447, 'min': 0.573425, 'variance': 0.011414},\n",
       "   'words': '建简单的人工智应用模块,亲历设计与其现简单智能系'},\n",
       "  {'probability': {'average': 0.904025, 'min': 0.461972, 'variance': 0.028204},\n",
       "   'words': '的基本过与方法,增刺用智能技术照务人类发展的'},\n",
       "  {'probability': {'average': 0.619166, 'min': 0.421504, 'variance': 0.03907},\n",
       "   'words': '低感'},\n",
       "  {'probability': {'average': 0.897613, 'min': 0.411398, 'variance': 0.030226},\n",
       "   'words': '本模块包“人工智能基鸡”“简单人工智能应用模'},\n",
       "  {'probability': {'average': 0.955277, 'min': 0.431249, 'variance': 0.014502},\n",
       "   'words': '块开发”“人工智技术竹发展与应用”三分内容。'}],\n",
       " 'words_result_num': 14}"
      ]
     },
     "execution_count": 1,
     "metadata": {},
     "output_type": "execute_result"
    }
   ],
   "source": [
    "'''\n",
    "文字识别 （demo_3）\n",
    "\n",
    "'''\n",
    "\n",
    "\n",
    "from aip import AipOcr\n",
    "\n",
    "\"\"\" 你的 APPID AK SK \"\"\"\n",
    "APP_ID = '10913689'\n",
    "API_KEY = 'OBiEqDl1KpeBGhCv0YkDFwXz'\n",
    "SECRET_KEY = 'WmquvF1mpWGfrqFqPiAoi3yvYKgnSpz0 '\n",
    "\n",
    "\n",
    "client1 = AipOcr(APP_ID, API_KEY, SECRET_KEY)\n",
    "\n",
    "\n",
    "\"\"\" 读取图片 \"\"\"\n",
    "def get_file_content(filePath):\n",
    "    with open(filePath, 'rb') as fp:\n",
    "        return fp.read()\n",
    "\n",
    "image = get_file_content('1.png')\n",
    "\n",
    "\"\"\" 调用通用文字识别, 图片参数为本地图片 \"\"\"\n",
    "client1.basicGeneral(image);\n",
    "\n",
    "\"\"\" 如果有可选参数 \"\"\"\n",
    "options = {}\n",
    "options[\"language_type\"] = \"CHN_ENG\"\n",
    "options[\"detect_direction\"] = \"true\"\n",
    "options[\"detect_language\"] = \"true\"\n",
    "options[\"probability\"] = \"true\"\n",
    "\n",
    "\"\"\" 带参数调用通用文字识别, 图片参数为本地图片 \"\"\"\n",
    "client1.basicGeneral(image, options)\n",
    "\n",
    "\n"
   ]
  },
  {
   "cell_type": "markdown",
   "metadata": {},
   "source": [
    "[](test.jpg)"
   ]
  },
  {
   "cell_type": "code",
   "execution_count": 17,
   "metadata": {},
   "outputs": [
    {
     "data": {
      "text/plain": [
       "{'direction': 0,\n",
       " 'language': 3,\n",
       " 'log_id': 7743788044733032176,\n",
       " 'words_result': [{'probability': {'average': 0.84901,\n",
       "    'min': 0.738708,\n",
       "    'variance': 0.012166},\n",
       "   'words': '零8'},\n",
       "  {'probability': {'average': 0.998754, 'min': 0.994441, 'variance': 4e-06},\n",
       "   'words': '(南宋)文天祥'},\n",
       "  {'probability': {'average': 0.902382, 'min': 0.635468, 'variance': 0.013039},\n",
       "   'words': '惶恐滩头说惶恐,零丁洋里叹丁'},\n",
       "  {'probability': {'average': 0.966293, 'min': 0.61964, 'variance': 0.009148},\n",
       "   'words': '人生自古谁无死,留取丹之照汗青'},\n",
       "  {'probability': {'average': 0.771932, 'min': 0.771932, 'variance': 0},\n",
       "   'words': '见'},\n",
       "  {'probability': {'average': 0.999112, 'min': 0.995501, 'variance': 3e-06},\n",
       "   'words': '(南宋)陆游'},\n",
       "  {'probability': {'average': 0.998921, 'min': 0.993217, 'variance': 5e-06},\n",
       "   'words': '死去元知万事空,'},\n",
       "  {'probability': {'average': 0.969178, 'min': 0.777893, 'variance': 0.005275},\n",
       "   'words': '但悲不见九州同。'},\n",
       "  {'probability': {'average': 0.998663, 'min': 0.993125, 'variance': 6e-06},\n",
       "   'words': '王师北定中原日'},\n",
       "  {'probability': {'average': 0.819869, 'min': 0.353516, 'variance': 0.074786},\n",
       "   'words': '家祭无告乃翁。'}],\n",
       " 'words_result_num': 10}"
      ]
     },
     "execution_count": 17,
     "metadata": {},
     "output_type": "execute_result"
    }
   ],
   "source": [
    "\n",
    "url = \"http://pic.58pic.com/58pic/11/40/65/42P58PICFW8.jpg\"\n",
    "\n",
    "\"\"\" 调用通用文字识别, 图片参数为远程url图片 \"\"\"\n",
    "client1.basicGeneralUrl(url);\n",
    "\n",
    "\"\"\" 如果有可选参数 \"\"\"\n",
    "options = {}\n",
    "options[\"language_type\"] = \"CHN_ENG\"\n",
    "options[\"detect_direction\"] = \"true\"\n",
    "options[\"detect_language\"] = \"true\"\n",
    "options[\"probability\"] = \"true\"\n",
    "\n",
    "\"\"\" 带参数调用通用文字识别, 图片参数为远程url图片 \"\"\"\n",
    "client1.basicGeneralUrl(url, options)"
   ]
  },
  {
   "cell_type": "markdown",
   "metadata": {},
   "source": [
    "### 人脸检测 （demo_4_1）"
   ]
  },
  {
   "cell_type": "code",
   "execution_count": 19,
   "metadata": {},
   "outputs": [
    {
     "data": {
      "text/plain": [
       "{'log_id': 3368282971031215,\n",
       " 'result': [{'age': 29,\n",
       "   'face_probability': 1,\n",
       "   'location': {'height': 170, 'left': 177, 'top': 139, 'width': 174},\n",
       "   'pitch': 9.0704860687256,\n",
       "   'roll': -2.7265648841858,\n",
       "   'rotation_angle': -2,\n",
       "   'yaw': 2.0341699123383}],\n",
       " 'result_num': 1}"
      ]
     },
     "execution_count": 19,
     "metadata": {},
     "output_type": "execute_result"
    }
   ],
   "source": [
    "'''\n",
    "人脸检测 （demo_4_1）\n",
    "\n",
    "检测请求图片中的人脸，返回人脸位置、72个关键点坐标、及人脸相关属性信息。\n",
    "\n",
    "检测响应速度，与图片中人脸数量相关，人脸数量较多时响应时间会有些许延长。\n",
    "\n",
    "典型应用场景：如人脸属性分析，基于人脸关键点的加工分析，人脸营销活动等。\n",
    "\n",
    "'''\n",
    "\n",
    "from aip import AipFace\n",
    "\n",
    "\"\"\" 你的 APPID AK SK \"\"\"\n",
    "APP_ID = '10913883'\n",
    "API_KEY = 'hU9oQMT4v9qWzgyq2BXvVfu5'\n",
    "SECRET_KEY = 'mS6Bv0DxcTEIsa4odvZ87MDc0vQmMMff'\n",
    "\n",
    "client2 = AipFace(APP_ID, API_KEY, SECRET_KEY)\n",
    "\n",
    "\n",
    "\"\"\" 读取图片 \"\"\"\n",
    "def get_file_content(filePath):\n",
    "    with open(filePath, 'rb') as fp:\n",
    "        return fp.read()\n",
    "\n",
    "image = get_file_content('face.jpg')\n",
    "\n",
    "\"\"\" 调用人脸检测 \"\"\"\n",
    "client2.detect(image);\n",
    "\n",
    "\"\"\" 如果有可选参数 \"\"\"\n",
    "options = {}\n",
    "options[\"max_face_num\"] = 2\n",
    "options[\"face_fields\"] = \"age\"\n",
    "\n",
    "\"\"\" 带参数调用人脸检测 \"\"\"\n",
    "client2.detect(image, options)\n",
    "\n"
   ]
  },
  {
   "cell_type": "markdown",
   "metadata": {},
   "source": [
    "### 人脸比对 （demo_4_2）"
   ]
  },
  {
   "cell_type": "code",
   "execution_count": 20,
   "metadata": {},
   "outputs": [
    {
     "data": {
      "text/plain": [
       "{'ext_info': {'faceliveness': '0,0.00056620052782819',\n",
       "  'qualities': '{\"occlusion\":{\"left_eye\":0.0096038412302732,\"right_eye\":0,\"nose\":0,\"mouth\":0,\"left_cheek\":0.048440981656313,\"right_cheek\":0.021329365670681,\"chin\":0},\"blur\":2.7800031721092e-10,\"illumination\":199,\"completeness\":1},{\"occlusion\":{\"left_eye\":0.0055045871995389,\"right_eye\":0,\"nose\":0,\"mouth\":0,\"left_cheek\":0.055384613573551,\"right_cheek\":0.030258519575,\"chin\":0.0017804154194891},\"blur\":1.5839526912309e-10,\"illumination\":158,\"completeness\":1}'},\n",
       " 'log_id': 3391578433031215,\n",
       " 'result': [{'index_i': '0', 'index_j': '1', 'score': 96.851036071777}],\n",
       " 'result_num': 1}"
      ]
     },
     "execution_count": 20,
     "metadata": {},
     "output_type": "execute_result"
    }
   ],
   "source": [
    "\n",
    "'''\n",
    "人脸比对 （demo_4_2） ---安妮·海瑟薇\n",
    "\n",
    "该请求用于比对多张图片中的人脸相似度并返回两两比对的得分，可用于判断两张脸是否是同一人的可能性大小。\n",
    "\n",
    "典型应用场景：如人证合一验证，用户认证等，可与您现有的人脸库进行比对验证。\n",
    "\n",
    "'''\n",
    "\n",
    "\"\"\" 读取图片 \"\"\"\n",
    "def get_file_content(filePath):\n",
    "    with open(filePath, 'rb') as fp:\n",
    "        return fp.read()\n",
    "\n",
    "images = [\n",
    "    get_file_content('face.jpg'),\n",
    "    get_file_content('face1.jpg'),\n",
    "]\n",
    "\n",
    "\"\"\" 调用人脸比对 \"\"\"\n",
    "client2.match(images);\n",
    "\n",
    "\"\"\" 如果有可选参数 \"\"\"\n",
    "options = {}\n",
    "options[\"ext_fields\"] = \"qualities\"\n",
    "options[\"image_liveness\"] = \",faceliveness\"\n",
    "options[\"types\"] = \"7,13\"\n",
    "\n",
    "\"\"\" 带参数调用人脸比对 \"\"\"\n",
    "client2.match(images, options)\n",
    "\n"
   ]
  },
  {
   "cell_type": "markdown",
   "metadata": {},
   "source": [
    "### 图像识别 （demo_5） --菜品识别"
   ]
  },
  {
   "cell_type": "code",
   "execution_count": 23,
   "metadata": {},
   "outputs": [
    {
     "data": {
      "text/plain": [
       "{'log_id': 1404215582740156209,\n",
       " 'result': [{'calorie': '206',\n",
       "   'has_calorie': True,\n",
       "   'name': '羊肉串',\n",
       "   'probability': '0.742229'},\n",
       "  {'calorie': '80',\n",
       "   'has_calorie': True,\n",
       "   'name': '骨肉相连',\n",
       "   'probability': '0.0553208'},\n",
       "  {'calorie': '0',\n",
       "   'has_calorie': True,\n",
       "   'name': '猪肉串',\n",
       "   'probability': '0.0368781'}],\n",
       " 'result_num': 3}"
      ]
     },
     "execution_count": 23,
     "metadata": {},
     "output_type": "execute_result"
    }
   ],
   "source": [
    "'''\n",
    "图像识别 （demo_5） --菜品识别\n",
    "\n",
    "该请求用于菜品识别。即对于输入的一张图片（可正常解码，且长宽比适宜），输出图片的菜品名称、卡路里信息、置信度。\n",
    "\n",
    "'''\n",
    "\n",
    "from aip import AipImageClassify\n",
    "\n",
    "\"\"\" 你的 APPID AK SK \"\"\"\n",
    "APP_ID = '10914104'\n",
    "API_KEY = 'SSIafmWWv10qqRblidr2thDq'\n",
    "SECRET_KEY = 'nDyKq17nxPuOjYEZIKWeSYzx8HgbiHgj'\n",
    "\n",
    "client3 = AipImageClassify(APP_ID, API_KEY, SECRET_KEY)\n",
    "\n",
    "\n",
    "\"\"\" 读取图片 \"\"\"\n",
    "def get_file_content(filePath):\n",
    "    with open(filePath, 'rb') as fp:\n",
    "        return fp.read()\n",
    "\n",
    "image = get_file_content('kaochuan.jpg')\n",
    "\n",
    "\"\"\" 调用菜品识别 \"\"\"\n",
    "client3.dishDetect(image);\n",
    "\n",
    "\"\"\" 如果有可选参数 \"\"\"\n",
    "options = {}\n",
    "options[\"top_num\"] = 3\n",
    "\n",
    "\"\"\" 带参数调用菜品识别 \"\"\"\n",
    "client3.dishDetect(image, options)\n",
    "\n"
   ]
  },
  {
   "cell_type": "markdown",
   "metadata": {},
   "source": [
    "### 图像识别 （demo_5） -- 车辆识别"
   ]
  },
  {
   "cell_type": "code",
   "execution_count": 24,
   "metadata": {},
   "outputs": [
    {
     "data": {
      "text/plain": [
       "{'color_result': '蓝色',\n",
       " 'log_id': 5516450969920487859,\n",
       " 'result': [{'name': '兰博基尼Aventador',\n",
       "   'score': 0.99704843759537,\n",
       "   'year': '2007'},\n",
       "  {'name': '三菱Endeavor', 'score': 0.0015899568097666, 'year': '2013'},\n",
       "  {'name': '兰博基尼Murcielago',\n",
       "   'score': 0.00048711753333919,\n",
       "   'year': '2004-2010'}]}"
      ]
     },
     "execution_count": 24,
     "metadata": {},
     "output_type": "execute_result"
    }
   ],
   "source": [
    "'''\n",
    "车辆识别\n",
    "\n",
    "该请求用于检测一张车辆图片的具体车型。即对于输入的一张图片（可正常解码，且长宽比适宜），输出图片的车辆品牌及型号。\n",
    "'''\n",
    "\n",
    "\n",
    "\"\"\" 读取图片 \"\"\"\n",
    "def get_file_content(filePath):\n",
    "    with open(filePath, 'rb') as fp:\n",
    "        return fp.read()\n",
    "\n",
    "image = get_file_content('car.jpg')\n",
    "\n",
    "\"\"\" 调用车辆识别 \"\"\"\n",
    "client3.carDetect(image);\n",
    "\n",
    "\"\"\" 如果有可选参数 \"\"\"\n",
    "options = {}\n",
    "options[\"top_num\"] = 3\n",
    "\n",
    "\"\"\" 带参数调用车辆识别 \"\"\"\n",
    "client3.carDetect(image, options)\n",
    "\n",
    "\n"
   ]
  },
  {
   "cell_type": "markdown",
   "metadata": {},
   "source": [
    "### 自然语言 - 语言处理基础技术 （demo_6）"
   ]
  },
  {
   "cell_type": "code",
   "execution_count": 27,
   "metadata": {},
   "outputs": [
    {
     "data": {
      "text/plain": [
       "{'items': [{'confidence': 0.395115,\n",
       "   'negative_prob': 0.272198,\n",
       "   'positive_prob': 0.727802,\n",
       "   'sentiment': 2}],\n",
       " 'log_id': 2303920266776899402,\n",
       " 'text': '苹果是一家伟大的公司'}"
      ]
     },
     "execution_count": 27,
     "metadata": {},
     "output_type": "execute_result"
    }
   ],
   "source": [
    "'''\n",
    "情感倾向分析\n",
    "对包含主观观点信息的文本进行情感极性类别（积极、消极、中性）的判断，并给出相应的置信度。\n",
    "\n",
    "'''\n",
    "\n",
    "from aip import AipNlp\n",
    "\n",
    "\"\"\" 你的 APPID AK SK \"\"\"\n",
    "APP_ID = '10914236'\n",
    "API_KEY = 'CU4ZvBnmXgmFDg0dsCFGdoCd'\n",
    "SECRET_KEY = 'kCLQIS3u98FFwDfGI5Pxcbz3A23rfiCo'\n",
    "\n",
    "client4 = AipNlp(APP_ID, API_KEY, SECRET_KEY)\n",
    "\n",
    "text = \"苹果是一家伟大的公司\"\n",
    "\n",
    "\"\"\" 调用情感倾向分析 \"\"\"\n",
    "client4.sentimentClassify(text)\n"
   ]
  },
  {
   "cell_type": "code",
   "execution_count": null,
   "metadata": {},
   "outputs": [],
   "source": []
  }
 ],
 "metadata": {
  "kernelspec": {
   "display_name": "Python 3",
   "language": "python",
   "name": "python3"
  },
  "language_info": {
   "codemirror_mode": {
    "name": "ipython",
    "version": 3
   },
   "file_extension": ".py",
   "mimetype": "text/x-python",
   "name": "python",
   "nbconvert_exporter": "python",
   "pygments_lexer": "ipython3",
   "version": "3.6.2"
  }
 },
 "nbformat": 4,
 "nbformat_minor": 2
}
