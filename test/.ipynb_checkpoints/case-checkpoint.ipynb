{
 "cells": [
  {
   "cell_type": "markdown",
   "metadata": {},
   "source": [
    "Case 1:\n",
    "\n",
    "树莓派 + YOLO 打造人工智能相机\n",
    "\n",
    "http://www.quwj.com/2018/01/07/make-a-raspberry-pi-artificial-intelligence-camera.html\n",
    "\n",
    "[Github:poor-mans-deep-learning-camera](https://github.com/burningion/poor-mans-deep-learning-camera)\n",
    "\n",
    "\n",
    "\n",
    "Case 2:\n",
    "\n",
    "圣诞老人检测机：基于树莓派和 Keras 的深度学习 AI\n",
    "\n",
    "http://www.quwj.com/2018/01/07/not-santa-keras-deep-learning-raspberry-pi.html\n",
    "\n",
    "[Github:tensorflow-on-raspberry-pi](https://github.com/samjabrahams/tensorflow-on-raspberry-pi)\n",
    "\n",
    "Case 3:\n",
    "\n",
    "Crontab 简单实现树莓派语音闹钟\n",
    "\n",
    "http://shumeipai.nxez.com/2017/10/27/crontab-and-raspberry-pi-voice-alarm-clock.html\n",
    "\n",
    "Case 4:\n",
    "\n",
    "叮当：一个开源的树莓派中文智能音箱项目\n",
    "\n",
    "http://shumeipai.nxez.com/2017/07/02/dingdang-an-open-source-chinese-smart-speaker-project.html\n",
    "\n",
    "http://dingdang.hahack.com/\n",
    "\n",
    "https://github.com/dingdang-robot/dingdang-robot"
   ]
  },
  {
   "cell_type": "code",
   "execution_count": null,
   "metadata": {},
   "outputs": [],
   "source": []
  }
 ],
 "metadata": {
  "kernelspec": {
   "display_name": "Python 3",
   "language": "python",
   "name": "python3"
  },
  "language_info": {
   "codemirror_mode": {
    "name": "ipython",
    "version": 3
   },
   "file_extension": ".py",
   "mimetype": "text/x-python",
   "name": "python",
   "nbconvert_exporter": "python",
   "pygments_lexer": "ipython3",
   "version": "3.6.2"
  }
 },
 "nbformat": 4,
 "nbformat_minor": 2
}
