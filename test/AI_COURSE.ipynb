{
 "cells": [
  {
   "cell_type": "markdown",
   "metadata": {},
   "source": [
    "人工智能是通过智能机器延仲、增發人类設造自然\n",
    "和治型会常力的新兴技术。近年来,人工智能的发及\n",
    "星现出深度学习、骑界合、人机协同等新特征,推动\n",
    "了社会各顿城从数字化、网化向智能化的联升,深\n",
    "放变着人们的生活方式和思撲式。本棋块是针对人工\n",
    "智艴的发顺特征,从基础知识与应用、简人工智应\n",
    "用模块搭建及开发等方面工遗性必修模块\n",
    "通过本漢块的学习,学生应了解人工智能发展历\n",
    "程及耗念,能魂共型人工智能算法的实现过程,过格\n",
    "建简单的人工智应用模块,亲历设计与其现简单智能系\n",
    "的基本过与方法,增刺用智能技术照务人类发展的\n",
    "低感\n",
    "本模块包“人工智能基鸡”“简单人工智能应用模\n",
    "块开发”“人工智技术竹发展与应用”三分内容"
   ]
  }
 ],
 "metadata": {
  "kernelspec": {
   "display_name": "Python 3",
   "language": "python",
   "name": "python3"
  },
  "language_info": {
   "codemirror_mode": {
    "name": "ipython",
    "version": 3
   },
   "file_extension": ".py",
   "mimetype": "text/x-python",
   "name": "python",
   "nbconvert_exporter": "python",
   "pygments_lexer": "ipython3",
   "version": "3.6.2"
  }
 },
 "nbformat": 4,
 "nbformat_minor": 2
}
